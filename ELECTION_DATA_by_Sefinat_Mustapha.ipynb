{
  "nbformat": 4,
  "nbformat_minor": 0,
  "metadata": {
    "colab": {
      "provenance": []
    },
    "kernelspec": {
      "name": "python3",
      "display_name": "Python 3"
    },
    "language_info": {
      "name": "python"
    }
  },
  "cells": [
    {
      "cell_type": "code",
      "execution_count": 30,
      "metadata": {
        "id": "oLiewjUvC3m5"
      },
      "outputs": [],
      "source": [
        "#IMPORTING LIBRARIES"
      ]
    },
    {
      "cell_type": "code",
      "source": [
        "!pip install geopy\n",
        "!pip install folium\n",
        "import pandas as pd\n",
        "import numpy as np\n",
        "import requests\n",
        "import matplotlib.pyplot as plt\n",
        "from scipy.stats import zscore\n",
        "from sklearn.neighbors import BallTree\n",
        "from sklearn.metrics.pairwise import haversine_distances"
      ],
      "metadata": {
        "colab": {
          "base_uri": "https://localhost:8080/"
        },
        "id": "YNptoLiEDOiz",
        "outputId": "0001cddd-a160-4fb8-a05d-3d9e38decf6a"
      },
      "execution_count": 32,
      "outputs": [
        {
          "output_type": "stream",
          "name": "stdout",
          "text": [
            "Requirement already satisfied: geopy in /usr/local/lib/python3.10/dist-packages (2.3.0)\n",
            "Requirement already satisfied: geographiclib<3,>=1.52 in /usr/local/lib/python3.10/dist-packages (from geopy) (2.0)\n",
            "Requirement already satisfied: folium in /usr/local/lib/python3.10/dist-packages (0.14.0)\n",
            "Requirement already satisfied: branca>=0.6.0 in /usr/local/lib/python3.10/dist-packages (from folium) (0.7.2)\n",
            "Requirement already satisfied: jinja2>=2.9 in /usr/local/lib/python3.10/dist-packages (from folium) (3.1.4)\n",
            "Requirement already satisfied: numpy in /usr/local/lib/python3.10/dist-packages (from folium) (1.25.2)\n",
            "Requirement already satisfied: requests in /usr/local/lib/python3.10/dist-packages (from folium) (2.31.0)\n",
            "Requirement already satisfied: MarkupSafe>=2.0 in /usr/local/lib/python3.10/dist-packages (from jinja2>=2.9->folium) (2.1.5)\n",
            "Requirement already satisfied: charset-normalizer<4,>=2 in /usr/local/lib/python3.10/dist-packages (from requests->folium) (3.3.2)\n",
            "Requirement already satisfied: idna<4,>=2.5 in /usr/local/lib/python3.10/dist-packages (from requests->folium) (3.7)\n",
            "Requirement already satisfied: urllib3<3,>=1.21.1 in /usr/local/lib/python3.10/dist-packages (from requests->folium) (2.0.7)\n",
            "Requirement already satisfied: certifi>=2017.4.17 in /usr/local/lib/python3.10/dist-packages (from requests->folium) (2024.6.2)\n"
          ]
        }
      ]
    },
    {
      "cell_type": "code",
      "source": [
        "# Loading the dataset\n",
        "file_path = 'Stage 1.xlsx'\n",
        "data = pd.read_excel(file_path)\n",
        "\n",
        "# Remove rows with NaN values in latitude and longitude\n",
        "data_cleaned = data.dropna(subset=['Latitude', 'Longitude'])"
      ],
      "metadata": {
        "id": "BWFFkvyFDPCC"
      },
      "execution_count": 33,
      "outputs": []
    },
    {
      "cell_type": "code",
      "source": [
        "#checking if there are no null values anymore\n",
        "print(data_cleaned[['Latitude', 'Longitude']].isnull().sum())"
      ],
      "metadata": {
        "colab": {
          "base_uri": "https://localhost:8080/"
        },
        "id": "D6jAQhlYDPDp",
        "outputId": "81dd692e-dab9-4365-e9b2-1779cdf1eb5e"
      },
      "execution_count": 34,
      "outputs": [
        {
          "output_type": "stream",
          "name": "stdout",
          "text": [
            "Latitude     0\n",
            "Longitude    0\n",
            "dtype: int64\n"
          ]
        }
      ]
    },
    {
      "cell_type": "code",
      "source": [
        "data_cleaned['latitude_radians'] = np.radians(data_cleaned['Latitude'])\n",
        "data_cleaned['longitude_radians'] = np.radians(data_cleaned['Longitude'])"
      ],
      "metadata": {
        "id": "CMoSNln7DPGF"
      },
      "execution_count": 35,
      "outputs": []
    },
    {
      "cell_type": "code",
      "source": [
        "coords = data_cleaned[['latitude_radians', 'longitude_radians']].values\n",
        "if coords.size == 0:\n",
        "    raise ValueError(\"Coordinates array is empty. Check your data and merging process.\")\n",
        "\n",
        "dist_matrix = haversine_distances(coords) * 6371  # Convert to kilometers\n",
        "\n",
        "# Define a radius (1 km)\n",
        "radius = 1\n",
        "\n",
        "# Identify neighbors within the radius\n",
        "neighbors = {i: np.where(dist_matrix[i] <= radius)[0] for i in range(len(data_cleaned))}"
      ],
      "metadata": {
        "id": "b-2uiqpWDPIE"
      },
      "execution_count": 36,
      "outputs": []
    },
    {
      "cell_type": "code",
      "source": [
        "def calculate_outlier_scores(neighbors, data_cleaned, id_column):\n",
        "    outlier_scores = []\n",
        "    for i, neighbor_indices in neighbors.items():\n",
        "        if len(neighbor_indices) > 1:\n",
        "            for party in ['APC', 'LP', 'PDP', 'NNPP']:\n",
        "                votes = data_cleaned.iloc[neighbor_indices][party].values\n",
        "                z_scores = zscore(votes)\n",
        "                outlier_scores.append({\n",
        "                    id_column: data_cleaned.iloc[i][id_column],\n",
        "                    'party': party,\n",
        "                    'outlier_score': z_scores[np.where(neighbor_indices == i)[0][0]]\n",
        "                })\n",
        "    return pd.DataFrame(outlier_scores)\n",
        "\n",
        "# Determine the appropriate identifier column\n",
        "id_column = 'unit_id' if 'unit_id' in data_cleaned.columns else data_cleaned.columns[4]\n",
        "\n",
        "# Calculate outlier scores\n",
        "outlier_scores = calculate_outlier_scores(neighbors, data_cleaned, id_column)\n",
        "print(outlier_scores.head())"
      ],
      "metadata": {
        "colab": {
          "base_uri": "https://localhost:8080/"
        },
        "id": "hy2sf6J9DPMJ",
        "outputId": "f551f941-1e21-48cd-81db-9d8ba93b2207"
      },
      "execution_count": 37,
      "outputs": [
        {
          "output_type": "stream",
          "name": "stdout",
          "text": [
            "               PU-Name party  outlier_score\n",
            "0  ST. CHARLE'S SCHOOL   APC      -0.543386\n",
            "1  ST. CHARLE'S SCHOOL    LP      -1.488709\n",
            "2  ST. CHARLE'S SCHOOL   PDP      -0.325378\n",
            "3  ST. CHARLE'S SCHOOL  NNPP      -0.509736\n",
            "4       AMANKWU SQUARE   APC       0.802052\n"
          ]
        }
      ]
    },
    {
      "cell_type": "code",
      "source": [
        "from geopy.distance import geodesic"
      ],
      "metadata": {
        "id": "vTt-iUGsH8NR"
      },
      "execution_count": 38,
      "outputs": []
    },
    {
      "cell_type": "code",
      "source": [
        "# Define a function to calculate the outlier score\n",
        "def calculate_outlier_score(votes, neighbor_votes):\n",
        "    return abs(votes - np.mean(neighbor_votes))\n",
        "\n",
        "# Sample DataFrame\n",
        "data = {\n",
        "    'PU-Name': ['PU1', 'PU2', 'PU3', 'PU4'],\n",
        "    'latitude': [6.5244, 6.5245, 6.5246, 6.5247],\n",
        "    'longitude': [3.3792, 3.3793, 3.3794, 3.3795],\n",
        "    'APC': [100, 150, 120, 130],\n",
        "    'LP': [200, 180, 210, 220],\n",
        "    'PDP': [300, 280, 290, 310],\n",
        "    'NNPP': [50, 60, 55, 65]\n",
        "}\n",
        "data_cleans = pd.DataFrame(data)\n",
        "\n",
        "# Define a radius (in km)\n",
        "radius = 1\n",
        "\n",
        "# Initialize outlier score columns\n",
        "data_cleans['APC_outlier_score'] = 0.0\n",
        "data_cleans['LP_outlier_score'] = 0.0\n",
        "data_cleans['PDP_outlier_score'] = 0.0\n",
        "data_cleans['NNPP_outlier_score'] = 0.0\n",
        "\n",
        "# Calculate outlier scores for each polling unit\n",
        "for i, row in data_cleans.iterrows():\n",
        "    # Get the coordinates of the current polling unit\n",
        "    current_coords = (row['latitude'], row['longitude'])\n",
        "\n",
        "    # Find neighboring polling units\n",
        "    neighbors = []\n",
        "    for j, neighbor_row in data_cleans.iterrows():\n",
        "        if i != j:\n",
        "            neighbor_coords = (neighbor_row['latitude'], neighbor_row['longitude'])\n",
        "            distance = geodesic(current_coords, neighbor_coords).kilometers\n",
        "            if distance <= radius:\n",
        "                neighbors.append(neighbor_row)\n",
        "\n",
        "    if neighbors:\n",
        "        # Calculate outlier scores for each party\n",
        "        neighbors_df = pd.DataFrame(neighbors)\n",
        "        data_cleans.at[i, 'APC_outlier_score'] = calculate_outlier_score(row['APC'], neighbors_df['APC'])\n",
        "        data_cleans.at[i, 'LP_outlier_score'] = calculate_outlier_score(row['LP'], neighbors_df['LP'])\n",
        "        data_cleans.at[i, 'PDP_outlier_score'] = calculate_outlier_score(row['PDP'], neighbors_df['PDP'])\n",
        "        data_cleans.at[i, 'NNPP_outlier_score'] = calculate_outlier_score(row['NNPP'], neighbors_df['NNPP'])\n",
        "\n",
        "print(data_cleans)"
      ],
      "metadata": {
        "colab": {
          "base_uri": "https://localhost:8080/"
        },
        "id": "YhLfTL-eH8ap",
        "outputId": "249779c5-eb4f-470e-e5cc-147d26f4083e"
      },
      "execution_count": 39,
      "outputs": [
        {
          "output_type": "stream",
          "name": "stdout",
          "text": [
            "  PU-Name  latitude  longitude  APC   LP  PDP  NNPP  APC_outlier_score  \\\n",
            "0     PU1    6.5244     3.3792  100  200  300    50          33.333333   \n",
            "1     PU2    6.5245     3.3793  150  180  280    60          33.333333   \n",
            "2     PU3    6.5246     3.3794  120  210  290    55           6.666667   \n",
            "3     PU4    6.5247     3.3795  130  220  310    65           6.666667   \n",
            "\n",
            "   LP_outlier_score  PDP_outlier_score  NNPP_outlier_score  \n",
            "0          3.333333           6.666667           10.000000  \n",
            "1         30.000000          20.000000            3.333333  \n",
            "2         10.000000           6.666667            3.333333  \n",
            "3         23.333333          20.000000           10.000000  \n"
          ]
        }
      ]
    },
    {
      "cell_type": "code",
      "source": [
        "##Saving the cleaned dataset into a csv file"
      ],
      "metadata": {
        "id": "P2Lhok7zJhBw"
      },
      "execution_count": null,
      "outputs": []
    },
    {
      "cell_type": "code",
      "source": [
        "cleaned_dataset = 'seffy_anambra_election_data_with_outlier_scores.csv'\n",
        "data_cleans.to_csv(cleaned_dataset, index=False)\n",
        "\n",
        "print(f\"Cleaned dataset saved to {cleaned_dataset}\")"
      ],
      "metadata": {
        "colab": {
          "base_uri": "https://localhost:8080/"
        },
        "id": "H7fTJ5FmH8cu",
        "outputId": "f6dce401-42ce-4a93-df32-c2e080fed32c"
      },
      "execution_count": 40,
      "outputs": [
        {
          "output_type": "stream",
          "name": "stdout",
          "text": [
            "Cleaned dataset saved to seffy_anambra_election_data_with_outlier_scores.csv\n"
          ]
        }
      ]
    },
    {
      "cell_type": "code",
      "source": [],
      "metadata": {
        "id": "gFyyvc1sKffZ"
      },
      "execution_count": null,
      "outputs": []
    },
    {
      "cell_type": "code",
      "source": [
        "#Visualization starts\n",
        "\n",
        "# Plotting the bar chart for PDP outlier scores\n",
        "plt.figure(figsize=(10, 6))\n",
        "plt.bar(data_cleans['PU-Name'], data_cleans['PDP_outlier_score'])\n",
        "plt.xticks(rotation=90)\n",
        "plt.xlabel('Polling Unit')\n",
        "plt.ylabel('Outlier Score')\n",
        "plt.title('Outlier Scores for PDP')\n",
        "plt.tight_layout()\n",
        "plt.show()"
      ],
      "metadata": {
        "colab": {
          "base_uri": "https://localhost:8080/",
          "height": 465
        },
        "id": "n2JnjwuPH8ez",
        "outputId": "78a28762-fc02-4a92-c3d5-b809f5094dbb"
      },
      "execution_count": 41,
      "outputs": [
        {
          "output_type": "display_data",
          "data": {
            "text/plain": [
              "<Figure size 1000x600 with 1 Axes>"
            ],
            "image/png": "[encoded data removed]"
          },
          "metadata": {}
        }
      ]
    },
    {
      "cell_type": "code",
      "source": [
        "# Plotting the bar chart for PDP outlier scores\n",
        "plt.figure(figsize=(10, 6))\n",
        "plt.bar(data_cleans['PU-Name'], data_cleans['LP_outlier_score'])\n",
        "plt.xticks(rotation=90)\n",
        "plt.xlabel('Polling Unit')\n",
        "plt.ylabel('Outlier Score')\n",
        "plt.title('Outlier Scores for LP')\n",
        "plt.tight_layout()\n",
        "plt.show()"
      ],
      "metadata": {
        "colab": {
          "base_uri": "https://localhost:8080/",
          "height": 465
        },
        "id": "PAeUvdKxH8is",
        "outputId": "91d0862c-7d93-4db5-b3e3-e385dfdf6cbe"
      },
      "execution_count": 42,
      "outputs": [
        {
          "output_type": "display_data",
          "data": {
            "text/plain": [
              "<Figure size 1000x600 with 1 Axes>"
            ],
            "image/png": "[encoded data removed]"
          },
          "metadata": {}
        }
      ]
    },
    {
      "cell_type": "code",
      "source": [],
      "metadata": {
        "id": "mpTuNRPmLF2e"
      },
      "execution_count": null,
      "outputs": []
    },
    {
      "cell_type": "code",
      "source": [
        "# Plotting the bar chart for PDP outlier scores\n",
        "plt.figure(figsize=(10, 6))\n",
        "plt.bar(data_cleans['PU-Name'], data_cleans['APC_outlier_score'])\n",
        "plt.xticks(rotation=90)\n",
        "plt.xlabel('Polling Unit')\n",
        "plt.ylabel('Outlier Score')\n",
        "plt.title('Outlier Scores for APC')\n",
        "plt.tight_layout()\n",
        "plt.show()"
      ],
      "metadata": {
        "colab": {
          "base_uri": "https://localhost:8080/",
          "height": 465
        },
        "id": "5T4A7MMlLGJ8",
        "outputId": "f5475be9-de02-4b91-a880-05aa3e1fb0a8"
      },
      "execution_count": 43,
      "outputs": [
        {
          "output_type": "display_data",
          "data": {
            "text/plain": [
              "<Figure size 1000x600 with 1 Axes>"
            ],
            "image/png": "[encoded data removed]"
          },
          "metadata": {}
        }
      ]
    },
    {
      "cell_type": "code",
      "source": [
        "# Plotting the bar chart for PDP outlier scores\n",
        "plt.figure(figsize=(10, 6))\n",
        "plt.bar(data_cleans['PU-Name'], data_cleans['NNPP_outlier_score'])\n",
        "plt.xticks(rotation=90)\n",
        "plt.xlabel('Polling Unit')\n",
        "plt.ylabel('Outlier Score')\n",
        "plt.title('Outlier Scores for NNPP')\n",
        "plt.tight_layout()\n",
        "plt.show()"
      ],
      "metadata": {
        "colab": {
          "base_uri": "https://localhost:8080/",
          "height": 465
        },
        "id": "nvCcQlTmLVkX",
        "outputId": "9a96ae60-2ba3-4b5b-aabd-efd386db04cc"
      },
      "execution_count": 44,
      "outputs": [
        {
          "output_type": "display_data",
          "data": {
            "text/plain": [
              "<Figure size 1000x600 with 1 Axes>"
            ],
            "image/png": "[encoded data removed]"
          },
          "metadata": {}
        }
      ]
    },
    {
      "cell_type": "code",
      "source": [
        "# Define the center of Anambra State\n",
        "anambra_centre = [6.2100, 7.0700]\n",
        "\n",
        "# Create a Folium map centered around Anambra State\n",
        "m = folium.Map(location=anambra_centre, zoom_start=10)  # Adjust zoom_start as needed\n",
        "\n",
        "# Adding markers for each polling unit\n",
        "for index, row in data_cleans.iterrows():\n",
        "    # Ensure coordinates are within Anambra State\n",
        "    if row['latitude'] < 5.5 or row['latitude'] > 7.8 or row['longitude'] < 6.5 or row['longitude'] > 7.9:\n",
        "        continue  # Skip markers outside Anambra State\n",
        "    folium.Marker(\n",
        "        location=[row['latitude'], row['longitude']],\n",
        "        popup=f\"Polling Unit: {row['PU-Name']}\\n\"\n",
        "              f\"APC Outlier Score: {row['APC_outlier_score']}\\n\"\n",
        "              f\"LP Outlier Score: {row['LP_outlier_score']}\\n\"\n",
        "              f\"PDP Outlier Score: {row['PDP_outlier_score']}\\n\"\n",
        "              f\"NNPP Outlier Score: {row['NNPP_outlier_score']}\"\n",
        "    ).add_to(m)\n",
        "\n",
        "# Save the map as an HTML file\n",
        "m.save('polling_units_map.html')\n",
        "\n",
        "# Display the map\n",
        "m"
      ],
      "metadata": {
        "colab": {
          "base_uri": "https://localhost:8080/",
          "height": 468
        },
        "id": "OpbdxY6aczwy",
        "outputId": "40c75284-1f42-4e89-c538-960e810ffe23"
      },
      "execution_count": 47,
      "outputs": [
        {
          "output_type": "execute_result",
          "data": {
            "text/plain": [
              "<folium.folium.Map at 0x79dfb13d43a0>"
            ],
            "text/html": [
              "<div style=\"width:100%;\"><div style=\"position:relative;width:100%;height:0;padding-bottom:60%;\"><span style=\"color:#565656\">Make this Notebook Trusted to load map: File -> Trust Notebook</span><iframe srcdoc=\"&lt;!DOCTYPE html&gt;\n",
              "&lt;html&gt;\n",
              "&lt;head&gt;\n",
              "    \n",
              "    &lt;meta http-equiv=&quot;content-type&quot; content=&quot;text/html; charset=UTF-8&quot; /&gt;\n",
              "    \n",
              "        &lt;script&gt;\n",
              "            L_NO_TOUCH = false;\n",
              "            L_DISABLE_3D = false;\n",
              "        &lt;/script&gt;\n",
              "    \n",
              "    &lt;style&gt;html, body {width: 100%;height: 100%;margin: 0;padding: 0;}&lt;/style&gt;\n",
              "    &lt;style&gt;#map {position:absolute;top:0;bottom:0;right:0;left:0;}&lt;/style&gt;\n",
              "    &lt;script src=&quot;https://cdn.jsdelivr.net/npm/leaflet@1.9.3/dist/leaflet.js&quot;&gt;&lt;/script&gt;\n",
              "    &lt;script src=&quot;https://code.jquery.com/jquery-1.12.4.min.js&quot;&gt;&lt;/script&gt;\n",
              "    &lt;script src=&quot;https://cdn.jsdelivr.net/npm/bootstrap@5.2.2/dist/js/bootstrap.bundle.min.js&quot;&gt;&lt;/script&gt;\n",
              "    &lt;script src=&quot;https://cdnjs.cloudflare.com/ajax/libs/Leaflet.awesome-markers/2.0.2/leaflet.awesome-markers.js&quot;&gt;&lt;/script&gt;\n",
              "    &lt;link rel=&quot;stylesheet&quot; href=&quot;https://cdn.jsdelivr.net/npm/leaflet@1.9.3/dist/leaflet.css&quot;/&gt;\n",
              "    &lt;link rel=&quot;stylesheet&quot; href=&quot;https://cdn.jsdelivr.net/npm/bootstrap@5.2.2/dist/css/bootstrap.min.css&quot;/&gt;\n",
              "    &lt;link rel=&quot;stylesheet&quot; href=&quot;https://netdna.bootstrapcdn.com/bootstrap/3.0.0/css/bootstrap.min.css&quot;/&gt;\n",
              "    &lt;link rel=&quot;stylesheet&quot; href=&quot;https://cdn.jsdelivr.net/npm/@fortawesome/fontawesome-free@6.2.0/css/all.min.css&quot;/&gt;\n",
              "    &lt;link rel=&quot;stylesheet&quot; href=&quot;https://cdnjs.cloudflare.com/ajax/libs/Leaflet.awesome-markers/2.0.2/leaflet.awesome-markers.css&quot;/&gt;\n",
              "    &lt;link rel=&quot;stylesheet&quot; href=&quot;https://cdn.jsdelivr.net/gh/python-visualization/folium/folium/templates/leaflet.awesome.rotate.min.css&quot;/&gt;\n",
              "    \n",
              "            &lt;meta name=&quot;viewport&quot; content=&quot;width=device-width,\n",
              "                initial-scale=1.0, maximum-scale=1.0, user-scalable=no&quot; /&gt;\n",
              "            &lt;style&gt;\n",
              "                #map_9f46d87d5536116ce25796f165f56648 {\n",
              "                    position: relative;\n",
              "                    width: 100.0%;\n",
              "                    height: 100.0%;\n",
              "                    left: 0.0%;\n",
              "                    top: 0.0%;\n",
              "                }\n",
              "                .leaflet-container { font-size: 1rem; }\n",
              "            &lt;/style&gt;\n",
              "        \n",
              "&lt;/head&gt;\n",
              "&lt;body&gt;\n",
              "    \n",
              "    \n",
              "            &lt;div class=&quot;folium-map&quot; id=&quot;map_9f46d87d5536116ce25796f165f56648&quot; &gt;&lt;/div&gt;\n",
              "        \n",
              "&lt;/body&gt;\n",
              "&lt;script&gt;\n",
              "    \n",
              "    \n",
              "            var map_9f46d87d5536116ce25796f165f56648 = L.map(\n",
              "                &quot;map_9f46d87d5536116ce25796f165f56648&quot;,\n",
              "                {\n",
              "                    center: [6.21, 7.07],\n",
              "                    crs: L.CRS.EPSG3857,\n",
              "                    zoom: 10,\n",
              "                    zoomControl: true,\n",
              "                    preferCanvas: false,\n",
              "                }\n",
              "            );\n",
              "\n",
              "            \n",
              "\n",
              "        \n",
              "    \n",
              "            var tile_layer_358f24a21d029321c1f916f489feec3c = L.tileLayer(\n",
              "                &quot;https://{s}.tile.openstreetmap.org/{z}/{x}/{y}.png&quot;,\n",
              "                {&quot;attribution&quot;: &quot;Data by \\u0026copy; \\u003ca target=\\&quot;_blank\\&quot; href=\\&quot;http://openstreetmap.org\\&quot;\\u003eOpenStreetMap\\u003c/a\\u003e, under \\u003ca target=\\&quot;_blank\\&quot; href=\\&quot;http://www.openstreetmap.org/copyright\\&quot;\\u003eODbL\\u003c/a\\u003e.&quot;, &quot;detectRetina&quot;: false, &quot;maxNativeZoom&quot;: 18, &quot;maxZoom&quot;: 18, &quot;minZoom&quot;: 0, &quot;noWrap&quot;: false, &quot;opacity&quot;: 1, &quot;subdomains&quot;: &quot;abc&quot;, &quot;tms&quot;: false}\n",
              "            ).addTo(map_9f46d87d5536116ce25796f165f56648);\n",
              "        \n",
              "&lt;/script&gt;\n",
              "&lt;/html&gt;\" style=\"position:absolute;width:100%;height:100%;left:0;top:0;border:none !important;\" allowfullscreen webkitallowfullscreen mozallowfullscreen></iframe></div></div>"
            ]
          },
          "metadata": {},
          "execution_count": 47
        }
      ]
    },
    {
      "cell_type": "code",
      "source": [],
      "metadata": {
        "id": "2XcxJ1t2fHd9"
      },
      "execution_count": null,
      "outputs": []
    },
    {
      "cell_type": "code",
      "source": [
        "#Sorting the dataset by outlier scores\n",
        "sorted_outliers = outlier_scores.sort_values(by='outlier_score', ascending=False)\n",
        "sorted_outliers.to_csv('sorted_outlier_scores.csv', index=False)\n",
        "print(sorted_outliers.head())"
      ],
      "metadata": {
        "colab": {
          "base_uri": "https://localhost:8080/"
        },
        "id": "5DLuD6d1fHfy",
        "outputId": "efb724fb-fbc7-40f0-d889-80d912dfe562"
      },
      "execution_count": 51,
      "outputs": [
        {
          "output_type": "stream",
          "name": "stdout",
          "text": [
            "                              PU-Name party  outlier_score\n",
            "1178                      AMA-OKPOGBA   PDP      12.839118\n",
            "9662              MODEBE MEMO P/S III   PDP      12.635357\n",
            "11232                   UMUNEBO P/S I   APC      12.000627\n",
            "7327                  UMUEZEAGU P/S I  NNPP      11.561981\n",
            "13667  URBAN BOYS SECONDARY SCHOOL  I  NNPP      11.335126\n"
          ]
        }
      ]
    },
    {
      "cell_type": "code",
      "source": [
        "#Identify top 3 outliers for each party\n",
        "top_outliers = sorted_outliers.groupby('party').head(3)\n",
        "print(top_outliers)"
      ],
      "metadata": {
        "colab": {
          "base_uri": "https://localhost:8080/"
        },
        "id": "zBV4P4MyfHiY",
        "outputId": "96822668-e18b-45e9-b233-71a1aad7a1fd"
      },
      "execution_count": 52,
      "outputs": [
        {
          "output_type": "stream",
          "name": "stdout",
          "text": [
            "                              PU-Name party  outlier_score\n",
            "1178                      AMA-OKPOGBA   PDP      12.839118\n",
            "9662              MODEBE MEMO P/S III   PDP      12.635357\n",
            "11232                   UMUNEBO P/S I   APC      12.000627\n",
            "7327                  UMUEZEAGU P/S I  NNPP      11.561981\n",
            "13667  URBAN BOYS SECONDARY SCHOOL  I  NNPP      11.335126\n",
            "2903         COMMUNITY PRY. SCHOOL II  NNPP      11.192704\n",
            "10078             OKAA AGBILIGBA HALL   PDP      11.176221\n",
            "3872            NKWO AMENYI SQUARE II   APC      10.614566\n",
            "10124                   EZENDU SQUARE   APC      10.320459\n",
            "1177                      AMA-OKPOGBA    LP       6.340112\n",
            "1169                     AMA-ENUGU II    LP       6.104308\n",
            "4097                   G.T.C COMPOUND    LP       4.916632\n"
          ]
        }
      ]
    },
    {
      "cell_type": "code",
      "source": [
        "# Explain why they are outliers\n",
        "for index, row in top_outliers.iterrows():\n",
        "    identifier = row[id_column]\n",
        "    party = row['party']\n",
        "    score = row['outlier_score']\n",
        "    print(f\"Unit {identifier} is an outlier for {party} with an outlier score of {score}.\")"
      ],
      "metadata": {
        "colab": {
          "base_uri": "https://localhost:8080/"
        },
        "id": "7B1obDkMfHlf",
        "outputId": "6089134d-1167-4896-8083-877dcb3ea9c9"
      },
      "execution_count": 53,
      "outputs": [
        {
          "output_type": "stream",
          "name": "stdout",
          "text": [
            "Unit AMA-OKPOGBA is an outlier for PDP with an outlier score of 12.839117745291805.\n",
            "Unit MODEBE MEMO P/S III is an outlier for PDP with an outlier score of 12.635356713952119.\n",
            "Unit UMUNEBO P/S I is an outlier for APC with an outlier score of 12.000627263241743.\n",
            "Unit UMUEZEAGU P/S I is an outlier for NNPP with an outlier score of 11.56198143144458.\n",
            "Unit URBAN BOYS SECONDARY SCHOOL  I is an outlier for NNPP with an outlier score of 11.335125970441581.\n",
            "Unit COMMUNITY PRY. SCHOOL II is an outlier for NNPP with an outlier score of 11.192703643249285.\n",
            "Unit OKAA AGBILIGBA HALL is an outlier for PDP with an outlier score of 11.176221160080914.\n",
            "Unit NKWO AMENYI SQUARE II is an outlier for APC with an outlier score of 10.614565989138514.\n",
            "Unit EZENDU SQUARE is an outlier for APC with an outlier score of 10.3204594420091.\n",
            "Unit AMA-OKPOGBA is an outlier for LP with an outlier score of 6.340112420528137.\n",
            "Unit AMA-ENUGU II is an outlier for LP with an outlier score of 6.104308343088281.\n",
            "Unit G.T.C COMPOUND is an outlier for LP with an outlier score of 4.916632013882595.\n"
          ]
        }
      ]
    },
    {
      "cell_type": "code",
      "source": [
        "# Save sorted outlier scores to a CSV file\n",
        "sorted_outliers.to_csv('sorted_outlier_scores.csv', index=False)"
      ],
      "metadata": {
        "id": "B1lTfJG8fHol"
      },
      "execution_count": 54,
      "outputs": []
    },
    {
      "cell_type": "code",
      "source": [
        "# Identify top 3 outliers for each party\n",
        "top_outliers = sorted_outliers.groupby('party').head(3)\n",
        "\n",
        "# Save top outliers to a CSV file\n",
        "top_outliers.to_csv('top_outliers.csv', index=False)"
      ],
      "metadata": {
        "id": "E53MOv45gq5z"
      },
      "execution_count": 55,
      "outputs": []
    },
    {
      "cell_type": "code",
      "source": [
        "# Save the full dataset with calculated columns\n",
        "data_cleans.to_csv('full_dataset_with_calculations.csv', index=False)"
      ],
      "metadata": {
        "id": "j4tl5KT7grIT"
      },
      "execution_count": 57,
      "outputs": []
    },
    {
      "cell_type": "code",
      "source": [
        "# Print statements to confirm saving\n",
        "print(\"Sorted outlier scores saved to 'sorted_outlier_scores.csv'\")\n",
        "print(\"Top 3 outliers for each party saved to 'top_outliers.csv'\")\n",
        "print(\"Full dataset with calculations saved to 'full_dataset_with_calculations.csv'\")"
      ],
      "metadata": {
        "colab": {
          "base_uri": "https://localhost:8080/"
        },
        "id": "CgL1NrEOgrpW",
        "outputId": "617086d8-b38f-40d8-f631-ee4c28095fcc"
      },
      "execution_count": 58,
      "outputs": [
        {
          "output_type": "stream",
          "name": "stdout",
          "text": [
            "Sorted outlier scores saved to 'sorted_outlier_scores.csv'\n",
            "Top 3 outliers for each party saved to 'top_outliers.csv'\n",
            "Full dataset with calculations saved to 'full_dataset_with_calculations.csv'\n"
          ]
        }
      ]
    }
  ]
}